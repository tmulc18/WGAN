{
 "cells": [
  {
   "cell_type": "code",
   "execution_count": 1,
   "metadata": {
    "collapsed": true
   },
   "outputs": [],
   "source": [
    "import tensorflow as tf\n",
    "import numpy as np\n",
    "from utils import *\n",
    "from modules import dense_layer\n",
    "from tqdm import tqdm\n",
    "from matplotlib import pyplot as plt\n",
    "%matplotlib inline"
   ]
  },
  {
   "cell_type": "code",
   "execution_count": 29,
   "metadata": {
    "collapsed": true
   },
   "outputs": [],
   "source": [
    "n_layers_gen=4\n",
    "n_nodes_gen = 784\n",
    "\n",
    "n_layers_dis=4\n",
    "n_nodes_dis = 512\n",
    "\n",
    "c = .001\n",
    "n_critic = 5\n",
    "\n",
    "lr = .00005\n",
    "n_steps = 500"
   ]
  },
  {
   "cell_type": "code",
   "execution_count": 3,
   "metadata": {
    "collapsed": true
   },
   "outputs": [],
   "source": [
    "def Gen(z,reuse=None):\n",
    "    \"\"\"\n",
    "    z : randoom noise tensor\n",
    "    \"\"\"\n",
    "    with tf.variable_scope('Generator',reuse=reuse):\n",
    "        x = z\n",
    "        for i in range(n_layers_gen):\n",
    "            x = dense_layer(x,n_nodes_gen,name_suffix='_%d'%i)\n",
    "    return x"
   ]
  },
  {
   "cell_type": "code",
   "execution_count": 4,
   "metadata": {
    "collapsed": true
   },
   "outputs": [],
   "source": [
    "def Dis(x,reuse=None):\n",
    "    \"\"\"\n",
    "    x : input tensor\n",
    "    \"\"\"\n",
    "    with tf.variable_scope('Discriminator',reuse=reuse):\n",
    "        for i in range(n_layers_dis):\n",
    "            x = dense_layer(x,n_nodes_dis,name_suffix='_%d'%i)\n",
    "        logits = dense_layer(x,1,name_suffix='_logit')\n",
    "    return logits"
   ]
  },
  {
   "cell_type": "code",
   "execution_count": 5,
   "metadata": {
    "collapsed": true
   },
   "outputs": [],
   "source": [
    "def clip_dis(c,dis_vars):\n",
    "\n",
    "    r = []\n",
    "    for v in dis_vars:\n",
    "        v_clipped=tf.clip_by_value(v,clip_value_min=-c,clip_value_max=c)\n",
    "        r.append(tf.assign(v,v_clipped))\n",
    "        \n",
    "    return r"
   ]
  },
  {
   "cell_type": "code",
   "execution_count": 6,
   "metadata": {
    "collapsed": true
   },
   "outputs": [],
   "source": [
    "b = get_trainer()\n",
    "x_feed,_=b.next_batch()"
   ]
  },
  {
   "cell_type": "code",
   "execution_count": 7,
   "metadata": {
    "collapsed": true
   },
   "outputs": [],
   "source": [
    "g = tf.Graph()\n",
    "with g.as_default():\n",
    "    x = tf.placeholder(tf.float32,shape=[None,784])\n",
    "    z = tf.placeholder(tf.float32,shape=[None,784])\n",
    "    \n",
    "    dis_real = Dis(x,reuse=None)\n",
    "    gen = Gen(z)\n",
    "    \n",
    "    dis_fake = Dis(gen,reuse=True)\n",
    "    \n",
    "    dis_loss = -(tf.reduce_mean(dis_real) - tf.reduce_mean(dis_fake))\n",
    "    gen_loss = -tf.reduce_mean(dis_fake)\n",
    "    \n",
    "    #Get variables\n",
    "    train_vars = tf.get_collection('trainable_variables')\n",
    "    dis_vars=[v for v in train_vars if 'Discriminator' in v.name]\n",
    "    gen_vars=[v for v in train_vars if 'Generator' in v.name]\n",
    "    \n",
    "    opt_critic = tf.train.RMSPropOptimizer(lr).minimize(dis_loss,var_list=dis_vars)\n",
    "    opt_gen = tf.train.RMSPropOptimizer(lr).minimize(gen_loss,var_list=gen_vars)\n",
    "    \n",
    "    #op to clip discriminator weights\n",
    "    clip_discrim = clip_dis(c,dis_vars)\n",
    "    \n",
    "    init = tf.global_variables_initializer()"
   ]
  },
  {
   "cell_type": "code",
   "execution_count": 8,
   "metadata": {
    "collapsed": true
   },
   "outputs": [],
   "source": [
    "sess = tf.Session(graph = g)\n",
    "sess.run(init)\n",
    "losses = []"
   ]
  },
  {
   "cell_type": "code",
   "execution_count": 30,
   "metadata": {},
   "outputs": [
    {
     "name": "stderr",
     "output_type": "stream",
     "text": [
      "100%|██████████| 500/500 [00:53<00:00,  9.63it/s]\n"
     ]
    }
   ],
   "source": [
    "for _ in tqdm(range(n_steps)):\n",
    "    for n in range(n_critic):\n",
    "        sess.run([opt_critic],feed_dict={x : x_feed, z : np.random.uniform(low=-1,high=1,size=(32,784))})\n",
    "        sess.run(clip_discrim)\n",
    "    sess.run(opt_gen,feed_dict={z : np.random.uniform(low=-1,high=1,size=(32,784)) })\n",
    "    l=sess.run(gen_loss,feed_dict={x : x_feed, z : np.random.uniform(low=-1,high=1,size=(32,784))})\n",
    "    losses.append(l)"
   ]
  },
  {
   "cell_type": "code",
   "execution_count": 31,
   "metadata": {},
   "outputs": [
    {
     "data": {
      "text/plain": [
       "[<matplotlib.lines.Line2D at 0x124fbfad0>]"
      ]
     },
     "execution_count": 31,
     "metadata": {},
     "output_type": "execute_result"
    },
    {
     "data": {
      "image/png": "[encoded data removed]",
      "text/plain": [
       "<matplotlib.figure.Figure at 0x124283ad0>"
      ]
     },
     "metadata": {},
     "output_type": "display_data"
    }
   ],
   "source": [
    "plt.plot(losses)"
   ]
  },
  {
   "cell_type": "code",
   "execution_count": 32,
   "metadata": {},
   "outputs": [],
   "source": [
    "gen_images = sess.run(gen,feed_dict={z : np.random.uniform(low=-1,high=1,size=(32,784))})"
   ]
  },
  {
   "cell_type": "code",
   "execution_count": 17,
   "metadata": {},
   "outputs": [],
   "source": [
    "def plot_images(images):\n",
    "    fig = plt.subplots(911)\n",
    "    for i in range(1,10):\n",
    "        plt.subplot(91+i)\n",
    "        plt.plot(np.reshape(images[i],(28,28)))"
   ]
  },
  {
   "cell_type": "code",
   "execution_count": 18,
   "metadata": {},
   "outputs": [],
   "source": [
    "#plot_images(gen_images)"
   ]
  },
  {
   "cell_type": "code",
   "execution_count": 36,
   "metadata": {},
   "outputs": [
    {
     "data": {
      "text/plain": [
       "<matplotlib.image.AxesImage at 0x125da6590>"
      ]
     },
     "execution_count": 36,
     "metadata": {},
     "output_type": "execute_result"
    },
    {
     "data": {
      "image/png": "[encoded data removed]",
      "text/plain": [
       "<matplotlib.figure.Figure at 0x125cb1790>"
      ]
     },
     "metadata": {},
     "output_type": "display_data"
    }
   ],
   "source": [
    "plt.imshow(np.reshape(gen_images[0],(28,28)),norm=None,cmap='Greys')"
   ]
  },
  {
   "cell_type": "code",
   "execution_count": null,
   "metadata": {
    "collapsed": true
   },
   "outputs": [],
   "source": []
  }
 ],
 "metadata": {
  "kernelspec": {
   "display_name": "Python [conda env:tensorflow1]",
   "language": "python",
   "name": "conda-env-tensorflow1-py"
  },
  "language_info": {
   "codemirror_mode": {
    "name": "ipython",
    "version": 2
   },
   "file_extension": ".py",
   "mimetype": "text/x-python",
   "name": "python",
   "nbconvert_exporter": "python",
   "pygments_lexer": "ipython2",
   "version": "2.7.13"
  }
 },
 "nbformat": 4,
 "nbformat_minor": 2
}
